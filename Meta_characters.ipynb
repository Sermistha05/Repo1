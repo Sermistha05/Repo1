{
  "nbformat": 4,
  "nbformat_minor": 0,
  "metadata": {
    "colab": {
      "provenance": [],
      "authorship_tag": "ABX9TyMfkyA1aYLxMQVYLN8xJZ2w",
      "include_colab_link": true
    },
    "kernelspec": {
      "name": "python3",
      "display_name": "Python 3"
    },
    "language_info": {
      "name": "python"
    }
  },
  "cells": [
    {
      "cell_type": "markdown",
      "metadata": {
        "id": "view-in-github",
        "colab_type": "text"
      },
      "source": [
        "<a href=\"https://colab.research.google.com/github/Sermistha05/Repo1/blob/main/Meta_characters.ipynb\" target=\"_parent\"><img src=\"https://colab.research.google.com/assets/colab-badge.svg\" alt=\"Open In Colab\"/></a>"
      ]
    },
    {
      "cell_type": "code",
      "execution_count": null,
      "metadata": {
        "colab": {
          "base_uri": "https://localhost:8080/"
        },
        "id": "RfVsxmMnngDr",
        "outputId": "52f0b02e-447c-4846-bec4-24ec6e3fb469"
      },
      "outputs": [
        {
          "output_type": "stream",
          "name": "stdout",
          "text": [
            "<re.Match object; span=(0, 21), match='India is asian region'>\n",
            "Yes Matched\n"
          ]
        }
      ],
      "source": [
        "import re\n",
        "S=\"India is asian region\"\n",
        "R=re.search(\"^India.*region$\",S)\n",
        "#print(R)\n",
        "if R:\n",
        "  print(\"Yes Matched\")\n",
        "else:\n",
        "  print(\"Not Matched\")"
      ]
    },
    {
      "cell_type": "code",
      "source": [
        "import re\n",
        "S=\"The rain in spain\"\n",
        "L=re.findall(\"ai\",S)\n",
        "print(L)\n",
        "print(len(L))\n",
        "T=re.findall(\"\\s\",S) # /s means space\n",
        "print(len(T))\n",
        "#sub\n",
        "S1=re.sub(\"spain\",\"Italy\",S)\n",
        "print(S1)\n",
        "L1=re.split(\"\\s\",S,1)\n",
        "print(L1)"
      ],
      "metadata": {
        "colab": {
          "base_uri": "https://localhost:8080/"
        },
        "id": "V5uQfI1rodYb",
        "outputId": "567c316f-c971-457f-e539-7f8429f1e899"
      },
      "execution_count": null,
      "outputs": [
        {
          "output_type": "stream",
          "name": "stdout",
          "text": [
            "['ai', 'ai']\n",
            "2\n",
            "3\n",
            "The rain in Italy\n",
            "['The', 'rain in spain']\n"
          ]
        }
      ]
    },
    {
      "cell_type": "code",
      "source": [
        "# Meta characters are patterns with special meaning like \"[],\\,^,$,.(any char),*(Zero or more),.*(one or more),+,?(0 or 1)\"\n",
        "import re\n",
        "S=\"The Rain In Spain\"\n",
        "T=re.findall(\"[A-Z]\",S)\n",
        "print(len(T))\n",
        "K=re.findall(\"[a-z]\",S)\n",
        "print(len(K))\n",
        "\n",
        "S1=\"I spent 1028 dollars on buying Iphone16\"\n",
        "L=re.findall(\"\\d\",S1) # \\s for space and \\d for digits\n",
        "print(L)\n",
        "print(len(L))\n",
        "\n",
        "S2=\"hello world\"\n",
        "R=re.search(\"^hello\",S2)\n",
        "if R:\n",
        "  print(True)\n",
        "else:\n",
        "  print(False)"
      ],
      "metadata": {
        "colab": {
          "base_uri": "https://localhost:8080/"
        },
        "id": "hSGYbpLlqCkl",
        "outputId": "c57afb7e-97b6-43d6-bc22-b11833675508"
      },
      "execution_count": null,
      "outputs": [
        {
          "output_type": "stream",
          "name": "stdout",
          "text": [
            "4\n",
            "10\n",
            "['1', '0', '2', '8', '1', '6']\n",
            "6\n",
            "True\n"
          ]
        }
      ]
    },
    {
      "cell_type": "code",
      "source": [
        "#search a sequence that starts with he followed by zero or more aand having end character o\n",
        "import re\n",
        "S=\"hello world\"\n",
        "R=re.findall(\"^he.*o\",S)\n",
        "if R:\n",
        "  print(True)\n",
        "else:\n",
        "  print(False)"
      ],
      "metadata": {
        "colab": {
          "base_uri": "https://localhost:8080/"
        },
        "id": "o_RTLIcTuPC5",
        "outputId": "20def2f5-d525-48d0-e1f5-0d701e37c6c1"
      },
      "execution_count": null,
      "outputs": [
        {
          "output_type": "stream",
          "name": "stdout",
          "text": [
            "True\n"
          ]
        }
      ]
    },
    {
      "cell_type": "code",
      "source": [
        "import re\n",
        "email=\"sermisthasingh1505@gmail.com\"\n",
        "valid=re.match(r'^[a-zA-Z0-9._%+-]+@[a-zA-Z0-9.-]+\\[a-zA-Z]{2,}$',email)\n",
        "if valid:\n",
        "  print(\"Valid Email\")\n",
        "else:\n",
        "  print(\"Invalid Email\")"
      ],
      "metadata": {
        "colab": {
          "base_uri": "https://localhost:8080/"
        },
        "id": "H496FXiQE4wc",
        "outputId": "57bf3caa-d4bc-4c7d-f56c-c7dda98cd046"
      },
      "execution_count": null,
      "outputs": [
        {
          "output_type": "stream",
          "name": "stdout",
          "text": [
            "Invalid Email\n"
          ]
        }
      ]
    },
    {
      "cell_type": "code",
      "source": [
        "# import re\n",
        "# a=open(\"sample.txt\",\"r\")\n",
        "# b=a.read\n",
        "# c=b.split(\"\\n\")\n",
        "# for d in c:\n",
        "#   obj = re.search(r'[\\w.]+\\@[w]+',d)\n",
        "#   if obj:\n",
        "#     print(\"Valid Email\")\n",
        "#   else:\n",
        "#     print(\"Invalid Email\")"
      ],
      "metadata": {
        "id": "3zgrqBlXGDXz"
      },
      "execution_count": null,
      "outputs": []
    },
    {
      "cell_type": "code",
      "source": [
        "# python program to read the file line wise(reverse)\n",
        "f=ope"
      ],
      "metadata": {
        "id": "NOEjqbtcI5o0"
      },
      "execution_count": null,
      "outputs": []
    }
  ]
}